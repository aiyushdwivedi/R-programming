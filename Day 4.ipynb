{
 "cells": [
  {
   "cell_type": "code",
   "execution_count": 1,
   "id": "e0f8ed1a",
   "metadata": {},
   "outputs": [
    {
     "name": "stdout",
     "output_type": "stream",
     "text": [
      "  gender height weight age\n",
      "1   Male  152.0     81  66\n",
      "2   Male  171.5     93  32\n",
      "3 Female  165.0     78  45\n"
     ]
    }
   ],
   "source": [
    "bmi=data.frame(\n",
    "gender=c(\"Male\",\"Male\",\"Female\"),\n",
    "height=c(152,171.5,165),\n",
    "weight=c(81,93,78),\n",
    "age=c(66,32,45))\n",
    "print(bmi)"
   ]
  },
  {
   "cell_type": "code",
   "execution_count": 2,
   "id": "09a8cf7f",
   "metadata": {},
   "outputs": [
    {
     "data": {
      "text/html": [
       "'data.frame'"
      ],
      "text/latex": [
       "'data.frame'"
      ],
      "text/markdown": [
       "'data.frame'"
      ],
      "text/plain": [
       "[1] \"data.frame\""
      ]
     },
     "metadata": {},
     "output_type": "display_data"
    }
   ],
   "source": [
    " class(bmi)"
   ]
  },
  {
   "cell_type": "code",
   "execution_count": 3,
   "id": "97ce8c92",
   "metadata": {},
   "outputs": [
    {
     "data": {
      "text/html": [
       "'list'"
      ],
      "text/latex": [
       "'list'"
      ],
      "text/markdown": [
       "'list'"
      ],
      "text/plain": [
       "[1] \"list\""
      ]
     },
     "metadata": {},
     "output_type": "display_data"
    }
   ],
   "source": [
    " typeof(bmi)"
   ]
  },
  {
   "cell_type": "code",
   "execution_count": 4,
   "id": "d04d3119",
   "metadata": {},
   "outputs": [
    {
     "data": {
      "text/html": [
       "<dl>\n",
       "\t<dt>$names</dt>\n",
       "\t\t<dd><ol class=list-inline>\n",
       "\t<li>'gender'</li>\n",
       "\t<li>'height'</li>\n",
       "\t<li>'weight'</li>\n",
       "\t<li>'age'</li>\n",
       "</ol>\n",
       "</dd>\n",
       "\t<dt>$class</dt>\n",
       "\t\t<dd>'data.frame'</dd>\n",
       "\t<dt>$row.names</dt>\n",
       "\t\t<dd><ol class=list-inline>\n",
       "\t<li>1</li>\n",
       "\t<li>2</li>\n",
       "\t<li>3</li>\n",
       "</ol>\n",
       "</dd>\n",
       "</dl>\n"
      ],
      "text/latex": [
       "\\begin{description}\n",
       "\\item[\\$names] \\begin{enumerate*}\n",
       "\\item 'gender'\n",
       "\\item 'height'\n",
       "\\item 'weight'\n",
       "\\item 'age'\n",
       "\\end{enumerate*}\n",
       "\n",
       "\\item[\\$class] 'data.frame'\n",
       "\\item[\\$row.names] \\begin{enumerate*}\n",
       "\\item 1\n",
       "\\item 2\n",
       "\\item 3\n",
       "\\end{enumerate*}\n",
       "\n",
       "\\end{description}\n"
      ],
      "text/markdown": [
       "$names\n",
       ":   1. 'gender'\n",
       "2. 'height'\n",
       "3. 'weight'\n",
       "4. 'age'\n",
       "\n",
       "\n",
       "\n",
       "$class\n",
       ":   'data.frame'\n",
       "$row.names\n",
       ":   1. 1\n",
       "2. 2\n",
       "3. 3\n",
       "\n",
       "\n",
       "\n",
       "\n",
       "\n"
      ],
      "text/plain": [
       "$names\n",
       "[1] \"gender\" \"height\" \"weight\" \"age\"   \n",
       "\n",
       "$class\n",
       "[1] \"data.frame\"\n",
       "\n",
       "$row.names\n",
       "[1] 1 2 3\n"
      ]
     },
     "metadata": {},
     "output_type": "display_data"
    }
   ],
   "source": [
    "attributes(bmi)"
   ]
  },
  {
   "cell_type": "code",
   "execution_count": 5,
   "id": "c1a8fd4d",
   "metadata": {},
   "outputs": [
    {
     "name": "stdout",
     "output_type": "stream",
     "text": [
      "      sub name marks\n",
      "1     iot    a    65\n",
      "2 science    b    75\n",
      "3   maths    c    85\n"
     ]
    }
   ],
   "source": [
    "subject=data.frame(\n",
    "sub=c(\"iot\",\"science\",\"maths\"),\n",
    "name=c(\"a\",\"b\",\"c\"),\n",
    "marks=c(65,75,85))\n",
    "print(subject)"
   ]
  },
  {
   "cell_type": "code",
   "execution_count": 8,
   "id": "694a98d1",
   "metadata": {},
   "outputs": [
    {
     "ename": "ERROR",
     "evalue": "Error in eval(expr, envir, enclos): object 'marks' not found\n",
     "output_type": "error",
     "traceback": [
      "Error in eval(expr, envir, enclos): object 'marks' not found\nTraceback:\n"
     ]
    }
   ],
   "source": [
    "subject=data.frame(\n",
    "sub=c(\"iot\",\"science\",\"maths\"),\n",
    "name=c(\"a\",\"b\",\"c\"),\n",
    "marks=c(65,75,85))\n",
    "per=marks*100\n",
    "subject\n",
    "per"
   ]
  },
  {
   "cell_type": "code",
   "execution_count": 7,
   "id": "b40fe593",
   "metadata": {},
   "outputs": [
    {
     "name": "stdout",
     "output_type": "stream",
     "text": [
      "  name science maths\n",
      "1    a      85    66\n",
      "2    b      95    77\n",
      "3    c      55    88\n"
     ]
    }
   ],
   "source": [
    "sheet=data.frame(\n",
    "name=c(\"a\",\"b\",\"c\"),\n",
    "science=c(85,95,55),\n",
    "maths=c(66,77,88))\n",
    "print(sheet)"
   ]
  },
  {
   "cell_type": "code",
   "execution_count": 9,
   "id": "328548e7",
   "metadata": {},
   "outputs": [
    {
     "name": "stderr",
     "output_type": "stream",
     "text": [
      "Warning message in Ops.factor(left, right):\n",
      "\"'<' not meaningful for factors\""
     ]
    },
    {
     "data": {
      "text/html": [
       "<table>\n",
       "<thead><tr><th scope=col>name</th><th scope=col>science</th><th scope=col>maths</th></tr></thead>\n",
       "<tbody>\n",
       "\t<tr><td>NA   </td><td>FALSE</td><td>TRUE </td></tr>\n",
       "\t<tr><td>NA   </td><td>FALSE</td><td>TRUE </td></tr>\n",
       "\t<tr><td>NA   </td><td> TRUE</td><td>TRUE </td></tr>\n",
       "</tbody>\n",
       "</table>\n"
      ],
      "text/latex": [
       "\\begin{tabular}{lll}\n",
       " name & science & maths\\\\\n",
       "\\hline\n",
       "\t NA    & FALSE & TRUE \\\\\n",
       "\t NA    & FALSE & TRUE \\\\\n",
       "\t NA    &  TRUE & TRUE \\\\\n",
       "\\end{tabular}\n"
      ],
      "text/markdown": [
       "\n",
       "| name | science | maths |\n",
       "|---|---|---|\n",
       "| NA    | FALSE | TRUE  |\n",
       "| NA    | FALSE | TRUE  |\n",
       "| NA    |  TRUE | TRUE  |\n",
       "\n"
      ],
      "text/plain": [
       "     name science maths\n",
       "[1,] NA   FALSE   TRUE \n",
       "[2,] NA   FALSE   TRUE \n",
       "[3,] NA    TRUE   TRUE "
      ]
     },
     "metadata": {},
     "output_type": "display_data"
    }
   ],
   "source": [
    "name<-c('a','b','c')\n",
    "m<- c(50,50,60)\n",
    "s<- c(50,50,60)\n",
    "total = (m+s)\n",
    "sheet < data.frame(m,s,total)\n"
   ]
  },
  {
   "cell_type": "code",
   "execution_count": 10,
   "id": "9ad4c954",
   "metadata": {},
   "outputs": [
    {
     "name": "stdout",
     "output_type": "stream",
     "text": [
      "  name  m  s total\n",
      "1    a 50 50   100\n",
      "2    b 50 50   100\n",
      "3    c 60 60   120\n"
     ]
    }
   ],
   "source": [
    "sheet <- data.frame(name,m,s,total)\n",
    "print(sheet)"
   ]
  },
  {
   "cell_type": "code",
   "execution_count": 11,
   "id": "6777d3e0",
   "metadata": {},
   "outputs": [
    {
     "name": "stdout",
     "output_type": "stream",
     "text": [
      "  name  m  s total\n",
      "1    a 50 50   100\n",
      "2    b 50 50   100\n",
      "3    c 60 60   120\n"
     ]
    }
   ],
   "source": [
    "m=c(50,50,60)\n",
    "s=c(50,50,60)\n",
    "total = c(m+s)\n",
    "sheet =data.frame(name,m,s,total)\n",
    "name=c('a','b','c')\n",
    "m=c(50,50,60)\n",
    "s=c(50,50,60)\n",
    "total = c(m+s)\n",
    "sheet =data.frame(name,m,s,total)\n",
    "print(sheet)\n"
   ]
  },
  {
   "cell_type": "code",
   "execution_count": null,
   "id": "ef8a354b",
   "metadata": {},
   "outputs": [],
   "source": []
  }
 ],
 "metadata": {
  "kernelspec": {
   "display_name": "R",
   "language": "R",
   "name": "ir"
  },
  "language_info": {
   "codemirror_mode": "r",
   "file_extension": ".r",
   "mimetype": "text/x-r-source",
   "name": "R",
   "pygments_lexer": "r",
   "version": "3.6.1"
  }
 },
 "nbformat": 4,
 "nbformat_minor": 5
}
